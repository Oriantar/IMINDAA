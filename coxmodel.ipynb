{
 "cells": [
  {
   "cell_type": "code",
   "id": "4c7f5afa-5712-4aa8-8e1d-fa9a36d77060",
   "metadata": {
    "ExecuteTime": {
     "end_time": "2025-05-26T23:36:26.627132Z",
     "start_time": "2025-05-26T23:36:26.624329Z"
    }
   },
   "source": [
    "import pandas as pd\n",
    "from lifelines import KaplanMeierFitter, CoxPHFitter\n",
    "import matplotlib.pyplot as plt\n",
    "import itertools as it"
   ],
   "outputs": [],
   "execution_count": 343
  },
  {
   "metadata": {
    "ExecuteTime": {
     "end_time": "2025-05-26T23:36:26.656606Z",
     "start_time": "2025-05-26T23:36:26.654060Z"
    }
   },
   "cell_type": "code",
   "source": [
    "## 'non-invasive' 'multifocal' 'tumour<1cm, grade 1' 'tumour>2cm, grade 2'\n",
    "\n",
    "var = \"tumour>2cm, grade 2\""
   ],
   "id": "9dc47fab547565a8",
   "outputs": [],
   "execution_count": 344
  },
  {
   "cell_type": "code",
   "id": "8030e750-df5e-400d-af9a-c1e75d3638ce",
   "metadata": {
    "ExecuteTime": {
     "end_time": "2025-05-26T23:36:26.700858Z",
     "start_time": "2025-05-26T23:36:26.685605Z"
    }
   },
   "source": [
    "data = pd.read_csv(\"./data/testset_set_echte_data1.csv\", sep=';', on_bad_lines='skip')\n",
    "data = data[data['F20DEATHCAU'] == \"Kanker\"]\n",
    "data = data[data['RF01INC01'] == var]\n"
   ],
   "outputs": [],
   "execution_count": 345
  },
  {
   "cell_type": "code",
   "id": "ac00d00f-f7a7-4a12-9fae-6b9dd683ccbc",
   "metadata": {
    "ExecuteTime": {
     "end_time": "2025-05-26T23:36:26.734336Z",
     "start_time": "2025-05-26T23:36:26.723207Z"
    }
   },
   "source": [
    "data.head()"
   ],
   "outputs": [
    {
     "data": {
      "text/plain": [
       "     BIRTHDAT BIRTHDATANON      REGDAT  AGEREG   REGMON   REGQRT  REGYR  \\\n",
       "15  22-5-1927     1-1-1925    4-7-2009      65  2017/04  Q1/2014   2012   \n",
       "36  24-7-1929     1-1-1925   19-3-2010      78  2018/07  Q4/2016   2020   \n",
       "55  3-11-1926     1-1-1925   8-10-2013      79  2013/09  Q3/2013   2017   \n",
       "56  17-5-1921     1-1-1925  14-11-2006      67  2017/06  Q3/2011   2021   \n",
       "61  19-7-1926     1-1-1925   31-5-2007      77  2014/03  Q4/2022   2019   \n",
       "\n",
       "            F01PHYSCOPY              F01PHYS             F01INC01  ...  \\\n",
       "15  Dr. Pieter de Vries    Dr. Sophie Jansen  tumour<1cm, grade 1  ...   \n",
       "36      Dr. Anna Bakker      Dr. Anna Bakker  tumour<1cm, grade 1  ...   \n",
       "55    Dr. Sophie Jansen    Dr. Sophie Jansen  tumour<1cm, grade 1  ...   \n",
       "56  Dr. Robbert Willems    Dr. Sophie Jansen  tumour<1cm, grade 1  ...   \n",
       "61  Dr. Pieter de Vries  Dr. Pieter de Vries  tumour>2cm, grade 2  ...   \n",
       "\n",
       "    genprof   radioth      rtontv  startdatrt   stopdatrt  gebjaar  \\\n",
       "15        1  Onbekend  Tomografie    1-9-1925   17-4-1924     1928   \n",
       "36        1  Onbekend  Tomografie    9-4-1923   1-11-1925     1927   \n",
       "55        0  Onbekend  Tomografie   4-11-1921  25-12-1921     1928   \n",
       "56        0  Onbekend  Tomografie   18-2-1923  31-12-1924     1932   \n",
       "61        1  Onbekend  Tomografie   15-5-1921   31-5-1922     1934   \n",
       "\n",
       "       panrpre  palabpre        panr  palab,,,  \n",
       "15  101-123456        79  101-123456       51,  \n",
       "36  101-123456        87  101-123456       96,  \n",
       "55  101-123456        67  101-123456       81,  \n",
       "56  101-123456        99  101-123456       67,  \n",
       "61  101-123456        65  101-123456       55,  \n",
       "\n",
       "[5 rows x 217 columns]"
      ],
      "text/html": [
       "<div>\n",
       "<style scoped>\n",
       "    .dataframe tbody tr th:only-of-type {\n",
       "        vertical-align: middle;\n",
       "    }\n",
       "\n",
       "    .dataframe tbody tr th {\n",
       "        vertical-align: top;\n",
       "    }\n",
       "\n",
       "    .dataframe thead th {\n",
       "        text-align: right;\n",
       "    }\n",
       "</style>\n",
       "<table border=\"1\" class=\"dataframe\">\n",
       "  <thead>\n",
       "    <tr style=\"text-align: right;\">\n",
       "      <th></th>\n",
       "      <th>BIRTHDAT</th>\n",
       "      <th>BIRTHDATANON</th>\n",
       "      <th>REGDAT</th>\n",
       "      <th>AGEREG</th>\n",
       "      <th>REGMON</th>\n",
       "      <th>REGQRT</th>\n",
       "      <th>REGYR</th>\n",
       "      <th>F01PHYSCOPY</th>\n",
       "      <th>F01PHYS</th>\n",
       "      <th>F01INC01</th>\n",
       "      <th>...</th>\n",
       "      <th>genprof</th>\n",
       "      <th>radioth</th>\n",
       "      <th>rtontv</th>\n",
       "      <th>startdatrt</th>\n",
       "      <th>stopdatrt</th>\n",
       "      <th>gebjaar</th>\n",
       "      <th>panrpre</th>\n",
       "      <th>palabpre</th>\n",
       "      <th>panr</th>\n",
       "      <th>palab,,,</th>\n",
       "    </tr>\n",
       "  </thead>\n",
       "  <tbody>\n",
       "    <tr>\n",
       "      <th>15</th>\n",
       "      <td>22-5-1927</td>\n",
       "      <td>1-1-1925</td>\n",
       "      <td>4-7-2009</td>\n",
       "      <td>65</td>\n",
       "      <td>2017/04</td>\n",
       "      <td>Q1/2014</td>\n",
       "      <td>2012</td>\n",
       "      <td>Dr. Pieter de Vries</td>\n",
       "      <td>Dr. Sophie Jansen</td>\n",
       "      <td>tumour&lt;1cm, grade 1</td>\n",
       "      <td>...</td>\n",
       "      <td>1</td>\n",
       "      <td>Onbekend</td>\n",
       "      <td>Tomografie</td>\n",
       "      <td>1-9-1925</td>\n",
       "      <td>17-4-1924</td>\n",
       "      <td>1928</td>\n",
       "      <td>101-123456</td>\n",
       "      <td>79</td>\n",
       "      <td>101-123456</td>\n",
       "      <td>51,</td>\n",
       "    </tr>\n",
       "    <tr>\n",
       "      <th>36</th>\n",
       "      <td>24-7-1929</td>\n",
       "      <td>1-1-1925</td>\n",
       "      <td>19-3-2010</td>\n",
       "      <td>78</td>\n",
       "      <td>2018/07</td>\n",
       "      <td>Q4/2016</td>\n",
       "      <td>2020</td>\n",
       "      <td>Dr. Anna Bakker</td>\n",
       "      <td>Dr. Anna Bakker</td>\n",
       "      <td>tumour&lt;1cm, grade 1</td>\n",
       "      <td>...</td>\n",
       "      <td>1</td>\n",
       "      <td>Onbekend</td>\n",
       "      <td>Tomografie</td>\n",
       "      <td>9-4-1923</td>\n",
       "      <td>1-11-1925</td>\n",
       "      <td>1927</td>\n",
       "      <td>101-123456</td>\n",
       "      <td>87</td>\n",
       "      <td>101-123456</td>\n",
       "      <td>96,</td>\n",
       "    </tr>\n",
       "    <tr>\n",
       "      <th>55</th>\n",
       "      <td>3-11-1926</td>\n",
       "      <td>1-1-1925</td>\n",
       "      <td>8-10-2013</td>\n",
       "      <td>79</td>\n",
       "      <td>2013/09</td>\n",
       "      <td>Q3/2013</td>\n",
       "      <td>2017</td>\n",
       "      <td>Dr. Sophie Jansen</td>\n",
       "      <td>Dr. Sophie Jansen</td>\n",
       "      <td>tumour&lt;1cm, grade 1</td>\n",
       "      <td>...</td>\n",
       "      <td>0</td>\n",
       "      <td>Onbekend</td>\n",
       "      <td>Tomografie</td>\n",
       "      <td>4-11-1921</td>\n",
       "      <td>25-12-1921</td>\n",
       "      <td>1928</td>\n",
       "      <td>101-123456</td>\n",
       "      <td>67</td>\n",
       "      <td>101-123456</td>\n",
       "      <td>81,</td>\n",
       "    </tr>\n",
       "    <tr>\n",
       "      <th>56</th>\n",
       "      <td>17-5-1921</td>\n",
       "      <td>1-1-1925</td>\n",
       "      <td>14-11-2006</td>\n",
       "      <td>67</td>\n",
       "      <td>2017/06</td>\n",
       "      <td>Q3/2011</td>\n",
       "      <td>2021</td>\n",
       "      <td>Dr. Robbert Willems</td>\n",
       "      <td>Dr. Sophie Jansen</td>\n",
       "      <td>tumour&lt;1cm, grade 1</td>\n",
       "      <td>...</td>\n",
       "      <td>0</td>\n",
       "      <td>Onbekend</td>\n",
       "      <td>Tomografie</td>\n",
       "      <td>18-2-1923</td>\n",
       "      <td>31-12-1924</td>\n",
       "      <td>1932</td>\n",
       "      <td>101-123456</td>\n",
       "      <td>99</td>\n",
       "      <td>101-123456</td>\n",
       "      <td>67,</td>\n",
       "    </tr>\n",
       "    <tr>\n",
       "      <th>61</th>\n",
       "      <td>19-7-1926</td>\n",
       "      <td>1-1-1925</td>\n",
       "      <td>31-5-2007</td>\n",
       "      <td>77</td>\n",
       "      <td>2014/03</td>\n",
       "      <td>Q4/2022</td>\n",
       "      <td>2019</td>\n",
       "      <td>Dr. Pieter de Vries</td>\n",
       "      <td>Dr. Pieter de Vries</td>\n",
       "      <td>tumour&gt;2cm, grade 2</td>\n",
       "      <td>...</td>\n",
       "      <td>1</td>\n",
       "      <td>Onbekend</td>\n",
       "      <td>Tomografie</td>\n",
       "      <td>15-5-1921</td>\n",
       "      <td>31-5-1922</td>\n",
       "      <td>1934</td>\n",
       "      <td>101-123456</td>\n",
       "      <td>65</td>\n",
       "      <td>101-123456</td>\n",
       "      <td>55,</td>\n",
       "    </tr>\n",
       "  </tbody>\n",
       "</table>\n",
       "<p>5 rows × 217 columns</p>\n",
       "</div>"
      ]
     },
     "execution_count": 346,
     "metadata": {},
     "output_type": "execute_result"
    }
   ],
   "execution_count": 346
  },
  {
   "cell_type": "code",
   "id": "0cad8193-b81d-4470-b60d-4a938c4343ee",
   "metadata": {
    "ExecuteTime": {
     "end_time": "2025-05-26T23:36:26.806061Z",
     "start_time": "2025-05-26T23:36:26.801410Z"
    }
   },
   "source": [
    "data['REGDAT'] = pd.to_datetime(data['REGDAT'], dayfirst=True, errors='coerce')\n",
    "data['BIRTHDAT'] = pd.to_datetime(data['BIRTHDAT'], dayfirst=True, errors='coerce')\n",
    "\n",
    "\n",
    "data['TIME'] = (data['REGDAT'] - data['BIRTHDAT']).dt.days // 365"
   ],
   "outputs": [],
   "execution_count": 347
  },
  {
   "cell_type": "code",
   "id": "75a951c7-3107-4545-b397-7db845ba3d3c",
   "metadata": {
    "ExecuteTime": {
     "end_time": "2025-05-26T23:36:26.886664Z",
     "start_time": "2025-05-26T23:36:26.881896Z"
    }
   },
   "source": [
    "data.dtypes"
   ],
   "outputs": [
    {
     "data": {
      "text/plain": [
       "BIRTHDAT        datetime64[ns]\n",
       "BIRTHDATANON            object\n",
       "REGDAT          datetime64[ns]\n",
       "AGEREG                   int64\n",
       "REGMON                  object\n",
       "                     ...      \n",
       "panrpre                 object\n",
       "palabpre                 int64\n",
       "panr                    object\n",
       "palab,,,                object\n",
       "TIME                     int64\n",
       "Length: 218, dtype: object"
      ]
     },
     "execution_count": 348,
     "metadata": {},
     "output_type": "execute_result"
    }
   ],
   "execution_count": 348
  },
  {
   "cell_type": "code",
   "id": "082e1aa8-1b61-40b6-b27b-05c225af5d0a",
   "metadata": {
    "ExecuteTime": {
     "end_time": "2025-05-26T23:36:27.254804Z",
     "start_time": "2025-05-26T23:36:27.244135Z"
    }
   },
   "source": [
    "data.tail()\n",
    "\n",
    "\n"
   ],
   "outputs": [
    {
     "data": {
      "text/plain": [
       "      BIRTHDAT BIRTHDATANON     REGDAT  AGEREG   REGMON   REGQRT  REGYR  \\\n",
       "115 1927-05-22     1-1-1925 2009-07-04      65  2017/04  Q1/2014   2012   \n",
       "136 1929-07-24     1-1-1925 2010-03-19      78  2018/07  Q4/2016   2020   \n",
       "155 1926-11-03     1-1-1925 2013-10-08      79  2013/09  Q3/2013   2017   \n",
       "156 1921-05-17     1-1-1925 2006-11-14      67  2017/06  Q3/2011   2021   \n",
       "161 1926-07-19     1-1-1925 2007-05-31      77  2014/03  Q4/2022   2019   \n",
       "\n",
       "             F01PHYSCOPY              F01PHYS             F01INC01  ...  \\\n",
       "115  Dr. Pieter de Vries    Dr. Sophie Jansen  tumour<1cm, grade 1  ...   \n",
       "136      Dr. Anna Bakker      Dr. Anna Bakker  tumour<1cm, grade 1  ...   \n",
       "155    Dr. Sophie Jansen    Dr. Sophie Jansen  tumour<1cm, grade 1  ...   \n",
       "156  Dr. Robbert Willems    Dr. Sophie Jansen  tumour<1cm, grade 1  ...   \n",
       "161  Dr. Pieter de Vries  Dr. Pieter de Vries  tumour>2cm, grade 2  ...   \n",
       "\n",
       "      radioth      rtontv  startdatrt   stopdatrt  gebjaar     panrpre  \\\n",
       "115  Onbekend  Tomografie    1-9-1925   17-4-1924     1928  101-123456   \n",
       "136  Onbekend  Tomografie    9-4-1923   1-11-1925     1927  101-123456   \n",
       "155  Onbekend  Tomografie   4-11-1921  25-12-1921     1928  101-123456   \n",
       "156  Onbekend  Tomografie   18-2-1923  31-12-1924     1932  101-123456   \n",
       "161  Onbekend  Tomografie   15-5-1921   31-5-1922     1934  101-123456   \n",
       "\n",
       "     palabpre        panr  palab,,,  TIME  \n",
       "115        79  101-123456       51,    82  \n",
       "136        87  101-123456       96,    80  \n",
       "155        67  101-123456       81,    86  \n",
       "156        99  101-123456       67,    85  \n",
       "161        65  101-123456       55,    80  \n",
       "\n",
       "[5 rows x 218 columns]"
      ],
      "text/html": [
       "<div>\n",
       "<style scoped>\n",
       "    .dataframe tbody tr th:only-of-type {\n",
       "        vertical-align: middle;\n",
       "    }\n",
       "\n",
       "    .dataframe tbody tr th {\n",
       "        vertical-align: top;\n",
       "    }\n",
       "\n",
       "    .dataframe thead th {\n",
       "        text-align: right;\n",
       "    }\n",
       "</style>\n",
       "<table border=\"1\" class=\"dataframe\">\n",
       "  <thead>\n",
       "    <tr style=\"text-align: right;\">\n",
       "      <th></th>\n",
       "      <th>BIRTHDAT</th>\n",
       "      <th>BIRTHDATANON</th>\n",
       "      <th>REGDAT</th>\n",
       "      <th>AGEREG</th>\n",
       "      <th>REGMON</th>\n",
       "      <th>REGQRT</th>\n",
       "      <th>REGYR</th>\n",
       "      <th>F01PHYSCOPY</th>\n",
       "      <th>F01PHYS</th>\n",
       "      <th>F01INC01</th>\n",
       "      <th>...</th>\n",
       "      <th>radioth</th>\n",
       "      <th>rtontv</th>\n",
       "      <th>startdatrt</th>\n",
       "      <th>stopdatrt</th>\n",
       "      <th>gebjaar</th>\n",
       "      <th>panrpre</th>\n",
       "      <th>palabpre</th>\n",
       "      <th>panr</th>\n",
       "      <th>palab,,,</th>\n",
       "      <th>TIME</th>\n",
       "    </tr>\n",
       "  </thead>\n",
       "  <tbody>\n",
       "    <tr>\n",
       "      <th>115</th>\n",
       "      <td>1927-05-22</td>\n",
       "      <td>1-1-1925</td>\n",
       "      <td>2009-07-04</td>\n",
       "      <td>65</td>\n",
       "      <td>2017/04</td>\n",
       "      <td>Q1/2014</td>\n",
       "      <td>2012</td>\n",
       "      <td>Dr. Pieter de Vries</td>\n",
       "      <td>Dr. Sophie Jansen</td>\n",
       "      <td>tumour&lt;1cm, grade 1</td>\n",
       "      <td>...</td>\n",
       "      <td>Onbekend</td>\n",
       "      <td>Tomografie</td>\n",
       "      <td>1-9-1925</td>\n",
       "      <td>17-4-1924</td>\n",
       "      <td>1928</td>\n",
       "      <td>101-123456</td>\n",
       "      <td>79</td>\n",
       "      <td>101-123456</td>\n",
       "      <td>51,</td>\n",
       "      <td>82</td>\n",
       "    </tr>\n",
       "    <tr>\n",
       "      <th>136</th>\n",
       "      <td>1929-07-24</td>\n",
       "      <td>1-1-1925</td>\n",
       "      <td>2010-03-19</td>\n",
       "      <td>78</td>\n",
       "      <td>2018/07</td>\n",
       "      <td>Q4/2016</td>\n",
       "      <td>2020</td>\n",
       "      <td>Dr. Anna Bakker</td>\n",
       "      <td>Dr. Anna Bakker</td>\n",
       "      <td>tumour&lt;1cm, grade 1</td>\n",
       "      <td>...</td>\n",
       "      <td>Onbekend</td>\n",
       "      <td>Tomografie</td>\n",
       "      <td>9-4-1923</td>\n",
       "      <td>1-11-1925</td>\n",
       "      <td>1927</td>\n",
       "      <td>101-123456</td>\n",
       "      <td>87</td>\n",
       "      <td>101-123456</td>\n",
       "      <td>96,</td>\n",
       "      <td>80</td>\n",
       "    </tr>\n",
       "    <tr>\n",
       "      <th>155</th>\n",
       "      <td>1926-11-03</td>\n",
       "      <td>1-1-1925</td>\n",
       "      <td>2013-10-08</td>\n",
       "      <td>79</td>\n",
       "      <td>2013/09</td>\n",
       "      <td>Q3/2013</td>\n",
       "      <td>2017</td>\n",
       "      <td>Dr. Sophie Jansen</td>\n",
       "      <td>Dr. Sophie Jansen</td>\n",
       "      <td>tumour&lt;1cm, grade 1</td>\n",
       "      <td>...</td>\n",
       "      <td>Onbekend</td>\n",
       "      <td>Tomografie</td>\n",
       "      <td>4-11-1921</td>\n",
       "      <td>25-12-1921</td>\n",
       "      <td>1928</td>\n",
       "      <td>101-123456</td>\n",
       "      <td>67</td>\n",
       "      <td>101-123456</td>\n",
       "      <td>81,</td>\n",
       "      <td>86</td>\n",
       "    </tr>\n",
       "    <tr>\n",
       "      <th>156</th>\n",
       "      <td>1921-05-17</td>\n",
       "      <td>1-1-1925</td>\n",
       "      <td>2006-11-14</td>\n",
       "      <td>67</td>\n",
       "      <td>2017/06</td>\n",
       "      <td>Q3/2011</td>\n",
       "      <td>2021</td>\n",
       "      <td>Dr. Robbert Willems</td>\n",
       "      <td>Dr. Sophie Jansen</td>\n",
       "      <td>tumour&lt;1cm, grade 1</td>\n",
       "      <td>...</td>\n",
       "      <td>Onbekend</td>\n",
       "      <td>Tomografie</td>\n",
       "      <td>18-2-1923</td>\n",
       "      <td>31-12-1924</td>\n",
       "      <td>1932</td>\n",
       "      <td>101-123456</td>\n",
       "      <td>99</td>\n",
       "      <td>101-123456</td>\n",
       "      <td>67,</td>\n",
       "      <td>85</td>\n",
       "    </tr>\n",
       "    <tr>\n",
       "      <th>161</th>\n",
       "      <td>1926-07-19</td>\n",
       "      <td>1-1-1925</td>\n",
       "      <td>2007-05-31</td>\n",
       "      <td>77</td>\n",
       "      <td>2014/03</td>\n",
       "      <td>Q4/2022</td>\n",
       "      <td>2019</td>\n",
       "      <td>Dr. Pieter de Vries</td>\n",
       "      <td>Dr. Pieter de Vries</td>\n",
       "      <td>tumour&gt;2cm, grade 2</td>\n",
       "      <td>...</td>\n",
       "      <td>Onbekend</td>\n",
       "      <td>Tomografie</td>\n",
       "      <td>15-5-1921</td>\n",
       "      <td>31-5-1922</td>\n",
       "      <td>1934</td>\n",
       "      <td>101-123456</td>\n",
       "      <td>65</td>\n",
       "      <td>101-123456</td>\n",
       "      <td>55,</td>\n",
       "      <td>80</td>\n",
       "    </tr>\n",
       "  </tbody>\n",
       "</table>\n",
       "<p>5 rows × 218 columns</p>\n",
       "</div>"
      ]
     },
     "execution_count": 349,
     "metadata": {},
     "output_type": "execute_result"
    }
   ],
   "execution_count": 349
  },
  {
   "cell_type": "code",
   "id": "85b5a368-519b-4d95-92a2-0ef04a210b62",
   "metadata": {
    "ExecuteTime": {
     "end_time": "2025-05-26T23:36:27.473426Z",
     "start_time": "2025-05-26T23:36:27.376250Z"
    }
   },
   "source": [
    "time = \"TIME\"\n",
    "event = \"F20CRF\"\n",
    "method = \"chemo\"\n",
    "method1 = \"later\"\n",
    "method2 = \"hormonth\"\n",
    "method3 = \"neoadjther\"\n",
    "T = data[time]\n",
    "E = data[event]\n",
    "plt.hist(T, bins = 50)\n",
    "plt.show()"
   ],
   "outputs": [
    {
     "data": {
      "text/plain": [
       "<Figure size 640x480 with 1 Axes>"
      ],
      "image/png": "[encoded data removed]"
     },
     "metadata": {},
     "output_type": "display_data"
    }
   ],
   "execution_count": 350
  },
  {
   "cell_type": "code",
   "id": "c0df0bf2-74ac-4460-af7a-9378322d456a",
   "metadata": {
    "ExecuteTime": {
     "end_time": "2025-05-26T23:36:27.678122Z",
     "start_time": "2025-05-26T23:36:27.594651Z"
    }
   },
   "source": [
    "kmf = KaplanMeierFitter()\n",
    "kmf.fit(durations = T, event_observed = E)\n",
    "kmf.plot_survival_function()\n"
   ],
   "outputs": [
    {
     "data": {
      "text/plain": [
       "<Axes: xlabel='timeline'>"
      ]
     },
     "execution_count": 351,
     "metadata": {},
     "output_type": "execute_result"
    },
    {
     "data": {
      "text/plain": [
       "<Figure size 640x480 with 1 Axes>"
      ],
      "image/png": "[encoded data removed]"
     },
     "metadata": {},
     "output_type": "display_data"
    }
   ],
   "execution_count": 351
  },
  {
   "cell_type": "code",
   "id": "9c4d628a-f89c-479f-807a-7da37677d8a5",
   "metadata": {
    "ExecuteTime": {
     "end_time": "2025-05-26T23:36:28.006420Z",
     "start_time": "2025-05-26T23:36:27.954494Z"
    }
   },
   "source": [
    "cph = CoxPHFitter(penalizer=0.01)\n",
    "columns = [time, event, method, method1, method2, method3]\n",
    "cph.fit(data[columns], duration_col = time, event_col = event)\n",
    "cph.print_summary()"
   ],
   "outputs": [
    {
     "data": {
      "text/plain": [
       "<lifelines.CoxPHFitter: fitted with 10 total observations, 0 right-censored observations>\n",
       "             duration col = 'TIME'\n",
       "                event col = 'F20CRF'\n",
       "                penalizer = 0.01\n",
       "                 l1 ratio = 0.0\n",
       "      baseline estimation = breslow\n",
       "   number of observations = 10\n",
       "number of events observed = 10\n",
       "   partial log-likelihood = -7.51\n",
       "         time fit was run = 2025-05-26 23:36:27 UTC\n",
       "\n",
       "---\n",
       "            coef exp(coef)  se(coef)  coef lower 95%  coef upper 95% exp(coef) lower 95% exp(coef) upper 95%\n",
       "covariate                                                                                                   \n",
       "chemo       2.03      7.61      4.30           -6.39           10.45                0.00            34601.54\n",
       "later       4.04     57.09      3.37           -2.56           10.65                0.08            42207.43\n",
       "hormonth    2.71     14.96      4.46           -6.03           11.44                0.00            93403.90\n",
       "neoadjther -2.03      0.13      4.30          -10.45            6.39                0.00              598.06\n",
       "\n",
       "            cmp to     z    p  -log2(p)\n",
       "covariate                              \n",
       "chemo         0.00  0.47 0.64      0.65\n",
       "later         0.00  1.20 0.23      2.12\n",
       "hormonth      0.00  0.61 0.54      0.88\n",
       "neoadjther    0.00 -0.47 0.64      0.65\n",
       "---\n",
       "Concordance = 0.94\n",
       "Partial AIC = 23.02\n",
       "log-likelihood ratio test = 15.19 on 4 df\n",
       "-log2(p) of ll-ratio test = 7.85"
      ],
      "text/html": [
       "<div>\n",
       "<style scoped>\n",
       "    .dataframe tbody tr th:only-of-type {\n",
       "        vertical-align: middle;\n",
       "    }\n",
       "\n",
       "    .dataframe tbody tr th {\n",
       "        vertical-align: top;\n",
       "    }\n",
       "\n",
       "    .dataframe thead th {\n",
       "        text-align: right;\n",
       "    }\n",
       "</style>\n",
       "<table border=\"1\" class=\"dataframe\">\n",
       "  <tbody>\n",
       "    <tr>\n",
       "      <th>model</th>\n",
       "      <td>lifelines.CoxPHFitter</td>\n",
       "    </tr>\n",
       "    <tr>\n",
       "      <th>duration col</th>\n",
       "      <td>'TIME'</td>\n",
       "    </tr>\n",
       "    <tr>\n",
       "      <th>event col</th>\n",
       "      <td>'F20CRF'</td>\n",
       "    </tr>\n",
       "    <tr>\n",
       "      <th>penalizer</th>\n",
       "      <td>0.01</td>\n",
       "    </tr>\n",
       "    <tr>\n",
       "      <th>l1 ratio</th>\n",
       "      <td>0.0</td>\n",
       "    </tr>\n",
       "    <tr>\n",
       "      <th>baseline estimation</th>\n",
       "      <td>breslow</td>\n",
       "    </tr>\n",
       "    <tr>\n",
       "      <th>number of observations</th>\n",
       "      <td>10</td>\n",
       "    </tr>\n",
       "    <tr>\n",
       "      <th>number of events observed</th>\n",
       "      <td>10</td>\n",
       "    </tr>\n",
       "    <tr>\n",
       "      <th>partial log-likelihood</th>\n",
       "      <td>-7.51</td>\n",
       "    </tr>\n",
       "    <tr>\n",
       "      <th>time fit was run</th>\n",
       "      <td>2025-05-26 23:36:27 UTC</td>\n",
       "    </tr>\n",
       "  </tbody>\n",
       "</table>\n",
       "</div><table border=\"1\" class=\"dataframe\">\n",
       "  <thead>\n",
       "    <tr style=\"text-align: right;\">\n",
       "      <th style=\"min-width: 12px;\"></th>\n",
       "      <th style=\"min-width: 12px;\">coef</th>\n",
       "      <th style=\"min-width: 12px;\">exp(coef)</th>\n",
       "      <th style=\"min-width: 12px;\">se(coef)</th>\n",
       "      <th style=\"min-width: 12px;\">coef lower 95%</th>\n",
       "      <th style=\"min-width: 12px;\">coef upper 95%</th>\n",
       "      <th style=\"min-width: 12px;\">exp(coef) lower 95%</th>\n",
       "      <th style=\"min-width: 12px;\">exp(coef) upper 95%</th>\n",
       "      <th style=\"min-width: 12px;\">cmp to</th>\n",
       "      <th style=\"min-width: 12px;\">z</th>\n",
       "      <th style=\"min-width: 12px;\">p</th>\n",
       "      <th style=\"min-width: 12px;\">-log2(p)</th>\n",
       "    </tr>\n",
       "  </thead>\n",
       "  <tbody>\n",
       "    <tr>\n",
       "      <th>chemo</th>\n",
       "      <td>2.03</td>\n",
       "      <td>7.61</td>\n",
       "      <td>4.30</td>\n",
       "      <td>-6.39</td>\n",
       "      <td>10.45</td>\n",
       "      <td>0.00</td>\n",
       "      <td>34601.54</td>\n",
       "      <td>0.00</td>\n",
       "      <td>0.47</td>\n",
       "      <td>0.64</td>\n",
       "      <td>0.65</td>\n",
       "    </tr>\n",
       "    <tr>\n",
       "      <th>later</th>\n",
       "      <td>4.04</td>\n",
       "      <td>57.09</td>\n",
       "      <td>3.37</td>\n",
       "      <td>-2.56</td>\n",
       "      <td>10.65</td>\n",
       "      <td>0.08</td>\n",
       "      <td>42207.43</td>\n",
       "      <td>0.00</td>\n",
       "      <td>1.20</td>\n",
       "      <td>0.23</td>\n",
       "      <td>2.12</td>\n",
       "    </tr>\n",
       "    <tr>\n",
       "      <th>hormonth</th>\n",
       "      <td>2.71</td>\n",
       "      <td>14.96</td>\n",
       "      <td>4.46</td>\n",
       "      <td>-6.03</td>\n",
       "      <td>11.44</td>\n",
       "      <td>0.00</td>\n",
       "      <td>93403.90</td>\n",
       "      <td>0.00</td>\n",
       "      <td>0.61</td>\n",
       "      <td>0.54</td>\n",
       "      <td>0.88</td>\n",
       "    </tr>\n",
       "    <tr>\n",
       "      <th>neoadjther</th>\n",
       "      <td>-2.03</td>\n",
       "      <td>0.13</td>\n",
       "      <td>4.30</td>\n",
       "      <td>-10.45</td>\n",
       "      <td>6.39</td>\n",
       "      <td>0.00</td>\n",
       "      <td>598.06</td>\n",
       "      <td>0.00</td>\n",
       "      <td>-0.47</td>\n",
       "      <td>0.64</td>\n",
       "      <td>0.65</td>\n",
       "    </tr>\n",
       "  </tbody>\n",
       "</table><br><div>\n",
       "<style scoped>\n",
       "    .dataframe tbody tr th:only-of-type {\n",
       "        vertical-align: middle;\n",
       "    }\n",
       "\n",
       "    .dataframe tbody tr th {\n",
       "        vertical-align: top;\n",
       "    }\n",
       "\n",
       "    .dataframe thead th {\n",
       "        text-align: right;\n",
       "    }\n",
       "</style>\n",
       "<table border=\"1\" class=\"dataframe\">\n",
       "  <tbody>\n",
       "    <tr>\n",
       "      <th>Concordance</th>\n",
       "      <td>0.94</td>\n",
       "    </tr>\n",
       "    <tr>\n",
       "      <th>Partial AIC</th>\n",
       "      <td>23.02</td>\n",
       "    </tr>\n",
       "    <tr>\n",
       "      <th>log-likelihood ratio test</th>\n",
       "      <td>15.19 on 4 df</td>\n",
       "    </tr>\n",
       "    <tr>\n",
       "      <th>-log2(p) of ll-ratio test</th>\n",
       "      <td>7.85</td>\n",
       "    </tr>\n",
       "  </tbody>\n",
       "</table>\n",
       "</div>"
      ],
      "text/latex": "\\begin{tabular}{lrrrrrrrrrrr}\n & coef & exp(coef) & se(coef) & coef lower 95% & coef upper 95% & exp(coef) lower 95% & exp(coef) upper 95% & cmp to & z & p & -log2(p) \\\\\ncovariate &  &  &  &  &  &  &  &  &  &  &  \\\\\nchemo & 2.03 & 7.61 & 4.30 & -6.39 & 10.45 & 0.00 & 34601.54 & 0.00 & 0.47 & 0.64 & 0.65 \\\\\nlater & 4.04 & 57.09 & 3.37 & -2.56 & 10.65 & 0.08 & 42207.43 & 0.00 & 1.20 & 0.23 & 2.12 \\\\\nhormonth & 2.71 & 14.96 & 4.46 & -6.03 & 11.44 & 0.00 & 93403.90 & 0.00 & 0.61 & 0.54 & 0.88 \\\\\nneoadjther & -2.03 & 0.13 & 4.30 & -10.45 & 6.39 & 0.00 & 598.06 & 0.00 & -0.47 & 0.64 & 0.65 \\\\\n\\end{tabular}\n"
     },
     "metadata": {},
     "output_type": "display_data"
    }
   ],
   "execution_count": 352
  },
  {
   "cell_type": "code",
   "id": "50083ada-f341-4066-b1f8-303013215d46",
   "metadata": {
    "ExecuteTime": {
     "end_time": "2025-05-26T23:36:28.128476Z",
     "start_time": "2025-05-26T23:36:28.065273Z"
    }
   },
   "source": [
    "cph.plot()"
   ],
   "outputs": [
    {
     "data": {
      "text/plain": [
       "<Axes: xlabel='log(HR) (95% CI)'>"
      ]
     },
     "execution_count": 353,
     "metadata": {},
     "output_type": "execute_result"
    },
    {
     "data": {
      "text/plain": [
       "<Figure size 640x480 with 1 Axes>"
      ],
      "image/png": "[encoded data removed]"
     },
     "metadata": {},
     "output_type": "display_data"
    }
   ],
   "execution_count": 353
  },
  {
   "cell_type": "code",
   "id": "bf5b4a11-604e-4482-8c65-0f8b98c0e139",
   "metadata": {
    "ExecuteTime": {
     "end_time": "2025-05-26T23:36:28.280329Z",
     "start_time": "2025-05-26T23:36:28.158342Z"
    }
   },
   "source": [
    "group_1 = pd.DataFrame({ method : [0], method1 : [0], method2: [0], method3: [0]})\n",
    "group_2 = pd.DataFrame({ method : [1], method1 : [0], method2: [0], method3: [0]})\n",
    "group_3 = pd.DataFrame({ method : [0], method1 : [1], method2: [0], method3: [0]})\n",
    "group_4 = pd.DataFrame({ method : [0], method1 : [0], method2: [1], method3: [0]})\n",
    "group_5 = pd.DataFrame({ method : [0], method1 : [0], method2: [0], method3: [1]})\n",
    "\n",
    "ax = cph.predict_survival_function(group_1).plot(label=\"Chemo=0, Later=0, hormonth=0, neoadjther=0\", linestyle='-', color=\"green\")\n",
    "cph.predict_survival_function(group_2).plot(ax=ax, label=\"Chemo=1, Later=0, hormonth=0, neoadjther=0\", linestyle='-', color=\"yellow\")\n",
    "cph.predict_survival_function(group_3).plot(ax=ax, label=\"Chemo=0, Later=1, hormonth=0, neoadjther=0\", linestyle='-', color=\"red\")\n",
    "cph.predict_survival_function(group_4).plot(ax=ax, label=\"Chemo=0, Later=0, hormonth=1, neoadjther=0\", linestyle='-', color=\"blue\")\n",
    "cph.predict_survival_function(group_5).plot(ax=ax, label=\"Chemo=0, Later=0, hormonth=0, neoadjther=1\", linestyle='-', color=\"black\")\n",
    "\n",
    "\n",
    "# Finalize plot\n",
    "plt.title(\"Survival Curves for Different Treatment Groups\")\n",
    "plt.xlabel(\"Time\")\n",
    "\n",
    "plt.ylabel(\"Survival Probability\")\n",
    "plt.grid(True)\n",
    "plt.legend()\n",
    "plt.show()"
   ],
   "outputs": [
    {
     "data": {
      "text/plain": [
       "<Figure size 640x480 with 1 Axes>"
      ],
      "image/png": "[encoded data removed]"
     },
     "metadata": {},
     "output_type": "display_data"
    }
   ],
   "execution_count": 354
  },
  {
   "cell_type": "code",
   "id": "f6e094f6-7462-4e74-b4c6-d4b6c19e4112",
   "metadata": {
    "ExecuteTime": {
     "end_time": "2025-05-26T23:36:28.311173Z",
     "start_time": "2025-05-26T23:36:28.309651Z"
    }
   },
   "source": [],
   "outputs": [],
   "execution_count": null
  }
 ],
 "metadata": {
  "kernelspec": {
   "display_name": "Python 3 (ipykernel)",
   "language": "python",
   "name": "python3"
  },
  "language_info": {
   "codemirror_mode": {
    "name": "ipython",
    "version": 3
   },
   "file_extension": ".py",
   "mimetype": "text/x-python",
   "name": "python",
   "nbconvert_exporter": "python",
   "pygments_lexer": "ipython3",
   "version": "3.11.7"
  }
 },
 "nbformat": 4,
 "nbformat_minor": 5
}
