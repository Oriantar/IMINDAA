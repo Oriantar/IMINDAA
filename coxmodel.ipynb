{
 "cells": [
  {
   "cell_type": "code",
   "execution_count": 1,
   "id": "4c7f5afa-5712-4aa8-8e1d-fa9a36d77060",
   "metadata": {
    "ExecuteTime": {
     "end_time": "2025-05-26T23:36:26.627132Z",
     "start_time": "2025-05-26T23:36:26.624329Z"
    }
   },
   "outputs": [],
   "source": [
    "import pandas as pd\n",
    "from lifelines import KaplanMeierFitter, CoxPHFitter\n",
    "import matplotlib.pyplot as plt\n",
    "import itertools as it"
   ]
  },
  {
   "cell_type": "code",
   "execution_count": 2,
   "id": "9dc47fab547565a8",
   "metadata": {
    "ExecuteTime": {
     "end_time": "2025-05-26T23:36:26.656606Z",
     "start_time": "2025-05-26T23:36:26.654060Z"
    }
   },
   "outputs": [
    {
     "name": "stdin",
     "output_type": "stream",
     "text": [
      " multifocal\n"
     ]
    }
   ],
   "source": [
    "# 'non-invasive', 'multifocal', 'tumour<1cm, grade 1', 'tumour>2cm, grade 2'\n",
    "var = input()"
   ]
  },
  {
   "cell_type": "code",
   "execution_count": 3,
   "id": "8030e750-df5e-400d-af9a-c1e75d3638ce",
   "metadata": {
    "ExecuteTime": {
     "end_time": "2025-05-26T23:36:26.700858Z",
     "start_time": "2025-05-26T23:36:26.685605Z"
    }
   },
   "outputs": [],
   "source": [
    "data = pd.read_csv(\"./data/testset_set_echte_data1_uitgebreid.csv\", sep=';', on_bad_lines='skip')\n",
    "data = data[data['F20DEATHCAU'] == \"Kanker\"]\n",
    "data = data[data['RF01INC01'] == var]"
   ]
  },
  {
   "cell_type": "code",
   "execution_count": 4,
   "id": "ac00d00f-f7a7-4a12-9fae-6b9dd683ccbc",
   "metadata": {
    "ExecuteTime": {
     "end_time": "2025-05-26T23:36:26.734336Z",
     "start_time": "2025-05-26T23:36:26.723207Z"
    }
   },
   "outputs": [
    {
     "data": {
      "text/html": [
       "<div>\n",
       "<style scoped>\n",
       "    .dataframe tbody tr th:only-of-type {\n",
       "        vertical-align: middle;\n",
       "    }\n",
       "\n",
       "    .dataframe tbody tr th {\n",
       "        vertical-align: top;\n",
       "    }\n",
       "\n",
       "    .dataframe thead th {\n",
       "        text-align: right;\n",
       "    }\n",
       "</style>\n",
       "<table border=\"1\" class=\"dataframe\">\n",
       "  <thead>\n",
       "    <tr style=\"text-align: right;\">\n",
       "      <th></th>\n",
       "      <th>BIRTHDAT</th>\n",
       "      <th>BIRTHDATANON</th>\n",
       "      <th>REGDAT</th>\n",
       "      <th>AGEREG</th>\n",
       "      <th>REGMON</th>\n",
       "      <th>REGQRT</th>\n",
       "      <th>REGYR</th>\n",
       "      <th>F01PHYSCOPY</th>\n",
       "      <th>F01PHYS</th>\n",
       "      <th>F01INC01</th>\n",
       "      <th>...</th>\n",
       "      <th>genprof</th>\n",
       "      <th>radioth</th>\n",
       "      <th>rtontv</th>\n",
       "      <th>startdatrt</th>\n",
       "      <th>stopdatrt</th>\n",
       "      <th>gebjaar</th>\n",
       "      <th>panrpre</th>\n",
       "      <th>palabpre</th>\n",
       "      <th>panr</th>\n",
       "      <th>palab,,,</th>\n",
       "    </tr>\n",
       "  </thead>\n",
       "  <tbody>\n",
       "    <tr>\n",
       "      <th>0</th>\n",
       "      <td>24-12-1930</td>\n",
       "      <td>1-1-1925</td>\n",
       "      <td>18-9-2006</td>\n",
       "      <td>71</td>\n",
       "      <td>2010/01</td>\n",
       "      <td>Q3/2020</td>\n",
       "      <td>2013</td>\n",
       "      <td>Dr. Robbert Willems</td>\n",
       "      <td>Dr. Robbert Willems</td>\n",
       "      <td>tumour&lt;1cm, grade 1</td>\n",
       "      <td>...</td>\n",
       "      <td>1</td>\n",
       "      <td>Onbekend</td>\n",
       "      <td>Tomografie</td>\n",
       "      <td>23-6-1920</td>\n",
       "      <td>11-2-1927</td>\n",
       "      <td>1918</td>\n",
       "      <td>101-123456</td>\n",
       "      <td>68</td>\n",
       "      <td>101-123456</td>\n",
       "      <td>78,,</td>\n",
       "    </tr>\n",
       "    <tr>\n",
       "      <th>23</th>\n",
       "      <td>18-4-1930</td>\n",
       "      <td>1-1-1925</td>\n",
       "      <td>28-2-2009</td>\n",
       "      <td>79</td>\n",
       "      <td>2015/06</td>\n",
       "      <td>Q4/2020</td>\n",
       "      <td>2012</td>\n",
       "      <td>Dr. Robbert Willems</td>\n",
       "      <td>Dr. Robbert Willems</td>\n",
       "      <td>tumour&gt;2cm, grade 2</td>\n",
       "      <td>...</td>\n",
       "      <td>0</td>\n",
       "      <td>Onbekend</td>\n",
       "      <td>Tomografie</td>\n",
       "      <td>16-3-1923</td>\n",
       "      <td>14-4-1923</td>\n",
       "      <td>1931</td>\n",
       "      <td>101-123456</td>\n",
       "      <td>75</td>\n",
       "      <td>101-123456</td>\n",
       "      <td>94,,</td>\n",
       "    </tr>\n",
       "    <tr>\n",
       "      <th>37</th>\n",
       "      <td>11-9-1921</td>\n",
       "      <td>1-1-1925</td>\n",
       "      <td>10-11-2011</td>\n",
       "      <td>81</td>\n",
       "      <td>2016/09</td>\n",
       "      <td>Q3/2020</td>\n",
       "      <td>2012</td>\n",
       "      <td>Dr. Robbert Willems</td>\n",
       "      <td>Dr. Robbert Willems</td>\n",
       "      <td>tumour&gt;2cm, grade 2</td>\n",
       "      <td>...</td>\n",
       "      <td>0</td>\n",
       "      <td>Onbekend</td>\n",
       "      <td>Tomografie</td>\n",
       "      <td>3-12-1920</td>\n",
       "      <td>29-7-1920</td>\n",
       "      <td>1930</td>\n",
       "      <td>101-123456</td>\n",
       "      <td>22</td>\n",
       "      <td>101-123456</td>\n",
       "      <td>23,,</td>\n",
       "    </tr>\n",
       "    <tr>\n",
       "      <th>69</th>\n",
       "      <td>24-2-1928</td>\n",
       "      <td>1-1-1925</td>\n",
       "      <td>1-11-2010</td>\n",
       "      <td>79</td>\n",
       "      <td>2015/10</td>\n",
       "      <td>Q3/2017</td>\n",
       "      <td>2016</td>\n",
       "      <td>Dr. Anna Bakker</td>\n",
       "      <td>Dr. Pieter de Vries</td>\n",
       "      <td>multifocal</td>\n",
       "      <td>...</td>\n",
       "      <td>1</td>\n",
       "      <td>Onbekend</td>\n",
       "      <td>Tomografie</td>\n",
       "      <td>5-1-1928</td>\n",
       "      <td>18-10-1928</td>\n",
       "      <td>1925</td>\n",
       "      <td>101-123456</td>\n",
       "      <td>95</td>\n",
       "      <td>101-123456</td>\n",
       "      <td>36,,,</td>\n",
       "    </tr>\n",
       "    <tr>\n",
       "      <th>71</th>\n",
       "      <td>30-4-1927</td>\n",
       "      <td>1-1-1925</td>\n",
       "      <td>12-4-2015</td>\n",
       "      <td>73</td>\n",
       "      <td>2015/12</td>\n",
       "      <td>Q2/2017</td>\n",
       "      <td>2012</td>\n",
       "      <td>Dr. Pieter de Vries</td>\n",
       "      <td>Dr. Pieter de Vries</td>\n",
       "      <td>tumour&gt;2cm, grade 2</td>\n",
       "      <td>...</td>\n",
       "      <td>0</td>\n",
       "      <td>Onbekend</td>\n",
       "      <td>Tomografie</td>\n",
       "      <td>13-4-1930</td>\n",
       "      <td>11-2-1925</td>\n",
       "      <td>1933</td>\n",
       "      <td>101-123456</td>\n",
       "      <td>46</td>\n",
       "      <td>101-123456</td>\n",
       "      <td>99,,</td>\n",
       "    </tr>\n",
       "  </tbody>\n",
       "</table>\n",
       "<p>5 rows × 217 columns</p>\n",
       "</div>"
      ],
      "text/plain": [
       "      BIRTHDAT BIRTHDATANON      REGDAT  AGEREG   REGMON   REGQRT  REGYR  \\\n",
       "0   24-12-1930     1-1-1925   18-9-2006      71  2010/01  Q3/2020   2013   \n",
       "23   18-4-1930     1-1-1925   28-2-2009      79  2015/06  Q4/2020   2012   \n",
       "37   11-9-1921     1-1-1925  10-11-2011      81  2016/09  Q3/2020   2012   \n",
       "69   24-2-1928     1-1-1925   1-11-2010      79  2015/10  Q3/2017   2016   \n",
       "71   30-4-1927     1-1-1925   12-4-2015      73  2015/12  Q2/2017   2012   \n",
       "\n",
       "            F01PHYSCOPY              F01PHYS             F01INC01  ...  \\\n",
       "0   Dr. Robbert Willems  Dr. Robbert Willems  tumour<1cm, grade 1  ...   \n",
       "23  Dr. Robbert Willems  Dr. Robbert Willems  tumour>2cm, grade 2  ...   \n",
       "37  Dr. Robbert Willems  Dr. Robbert Willems  tumour>2cm, grade 2  ...   \n",
       "69      Dr. Anna Bakker  Dr. Pieter de Vries           multifocal  ...   \n",
       "71  Dr. Pieter de Vries  Dr. Pieter de Vries  tumour>2cm, grade 2  ...   \n",
       "\n",
       "    genprof   radioth      rtontv  startdatrt   stopdatrt  gebjaar  \\\n",
       "0         1  Onbekend  Tomografie   23-6-1920   11-2-1927     1918   \n",
       "23        0  Onbekend  Tomografie   16-3-1923   14-4-1923     1931   \n",
       "37        0  Onbekend  Tomografie   3-12-1920   29-7-1920     1930   \n",
       "69        1  Onbekend  Tomografie    5-1-1928  18-10-1928     1925   \n",
       "71        0  Onbekend  Tomografie   13-4-1930   11-2-1925     1933   \n",
       "\n",
       "       panrpre  palabpre        panr  palab,,,  \n",
       "0   101-123456        68  101-123456      78,,  \n",
       "23  101-123456        75  101-123456      94,,  \n",
       "37  101-123456        22  101-123456      23,,  \n",
       "69  101-123456        95  101-123456     36,,,  \n",
       "71  101-123456        46  101-123456      99,,  \n",
       "\n",
       "[5 rows x 217 columns]"
      ]
     },
     "execution_count": 4,
     "metadata": {},
     "output_type": "execute_result"
    }
   ],
   "source": [
    "data.head()"
   ]
  },
  {
   "cell_type": "code",
   "execution_count": 5,
   "id": "0cad8193-b81d-4470-b60d-4a938c4343ee",
   "metadata": {
    "ExecuteTime": {
     "end_time": "2025-05-26T23:36:26.806061Z",
     "start_time": "2025-05-26T23:36:26.801410Z"
    }
   },
   "outputs": [],
   "source": [
    "data['REGDAT'] = pd.to_datetime(data['REGDAT'], dayfirst=True, errors='coerce')\n",
    "data['BIRTHDAT'] = pd.to_datetime(data['BIRTHDAT'], dayfirst=True, errors='coerce')\n",
    "\n",
    "\n",
    "data['TIME'] = (data['REGDAT'] - data['BIRTHDAT']).dt.days // 365"
   ]
  },
  {
   "cell_type": "code",
   "execution_count": 6,
   "id": "75a951c7-3107-4545-b397-7db845ba3d3c",
   "metadata": {
    "ExecuteTime": {
     "end_time": "2025-05-26T23:36:26.886664Z",
     "start_time": "2025-05-26T23:36:26.881896Z"
    }
   },
   "outputs": [
    {
     "data": {
      "text/plain": [
       "BIRTHDAT        datetime64[ns]\n",
       "BIRTHDATANON            object\n",
       "REGDAT          datetime64[ns]\n",
       "AGEREG                   int64\n",
       "REGMON                  object\n",
       "                     ...      \n",
       "panrpre                 object\n",
       "palabpre                 int64\n",
       "panr                    object\n",
       "palab,,,                object\n",
       "TIME                     int64\n",
       "Length: 218, dtype: object"
      ]
     },
     "execution_count": 6,
     "metadata": {},
     "output_type": "execute_result"
    }
   ],
   "source": [
    "data.dtypes"
   ]
  },
  {
   "cell_type": "code",
   "execution_count": 7,
   "id": "082e1aa8-1b61-40b6-b27b-05c225af5d0a",
   "metadata": {
    "ExecuteTime": {
     "end_time": "2025-05-26T23:36:27.254804Z",
     "start_time": "2025-05-26T23:36:27.244135Z"
    }
   },
   "outputs": [
    {
     "data": {
      "text/html": [
       "<div>\n",
       "<style scoped>\n",
       "    .dataframe tbody tr th:only-of-type {\n",
       "        vertical-align: middle;\n",
       "    }\n",
       "\n",
       "    .dataframe tbody tr th {\n",
       "        vertical-align: top;\n",
       "    }\n",
       "\n",
       "    .dataframe thead th {\n",
       "        text-align: right;\n",
       "    }\n",
       "</style>\n",
       "<table border=\"1\" class=\"dataframe\">\n",
       "  <thead>\n",
       "    <tr style=\"text-align: right;\">\n",
       "      <th></th>\n",
       "      <th>BIRTHDAT</th>\n",
       "      <th>BIRTHDATANON</th>\n",
       "      <th>REGDAT</th>\n",
       "      <th>AGEREG</th>\n",
       "      <th>REGMON</th>\n",
       "      <th>REGQRT</th>\n",
       "      <th>REGYR</th>\n",
       "      <th>F01PHYSCOPY</th>\n",
       "      <th>F01PHYS</th>\n",
       "      <th>F01INC01</th>\n",
       "      <th>...</th>\n",
       "      <th>radioth</th>\n",
       "      <th>rtontv</th>\n",
       "      <th>startdatrt</th>\n",
       "      <th>stopdatrt</th>\n",
       "      <th>gebjaar</th>\n",
       "      <th>panrpre</th>\n",
       "      <th>palabpre</th>\n",
       "      <th>panr</th>\n",
       "      <th>palab,,,</th>\n",
       "      <th>TIME</th>\n",
       "    </tr>\n",
       "  </thead>\n",
       "  <tbody>\n",
       "    <tr>\n",
       "      <th>2124</th>\n",
       "      <td>1930-09-13</td>\n",
       "      <td>1-1-1925</td>\n",
       "      <td>2005-11-08</td>\n",
       "      <td>74</td>\n",
       "      <td>2015/02</td>\n",
       "      <td>Q2/2015</td>\n",
       "      <td>2020</td>\n",
       "      <td>Dr. Pieter de Vries</td>\n",
       "      <td>Dr. Anna Bakker</td>\n",
       "      <td>multifocal</td>\n",
       "      <td>...</td>\n",
       "      <td>Onbekend</td>\n",
       "      <td>Tomografie</td>\n",
       "      <td>1-4-1929</td>\n",
       "      <td>8-6-1928</td>\n",
       "      <td>1914</td>\n",
       "      <td>101-123456</td>\n",
       "      <td>31</td>\n",
       "      <td>101-123456</td>\n",
       "      <td>8,,,</td>\n",
       "      <td>75</td>\n",
       "    </tr>\n",
       "    <tr>\n",
       "      <th>2140</th>\n",
       "      <td>1930-05-15</td>\n",
       "      <td>1-1-1925</td>\n",
       "      <td>2014-07-16</td>\n",
       "      <td>78</td>\n",
       "      <td>2021/06</td>\n",
       "      <td>Q2/2020</td>\n",
       "      <td>2020</td>\n",
       "      <td>Dr. Anna Bakker</td>\n",
       "      <td>Dr. Sophie Jansen</td>\n",
       "      <td>multifocal</td>\n",
       "      <td>...</td>\n",
       "      <td>Onbekend</td>\n",
       "      <td>Tomografie</td>\n",
       "      <td>16-3-1923</td>\n",
       "      <td>8-8-1921</td>\n",
       "      <td>1920</td>\n",
       "      <td>101-123456</td>\n",
       "      <td>102</td>\n",
       "      <td>101-123456</td>\n",
       "      <td>83,</td>\n",
       "      <td>84</td>\n",
       "    </tr>\n",
       "    <tr>\n",
       "      <th>2168</th>\n",
       "      <td>1929-10-20</td>\n",
       "      <td>1-1-1925</td>\n",
       "      <td>2015-04-12</td>\n",
       "      <td>75</td>\n",
       "      <td>2014/06</td>\n",
       "      <td>Q4/2013</td>\n",
       "      <td>2017</td>\n",
       "      <td>Dr. Anna Bakker</td>\n",
       "      <td>Dr. Robbert Willems</td>\n",
       "      <td>non-invasive</td>\n",
       "      <td>...</td>\n",
       "      <td>Onbekend</td>\n",
       "      <td>Tomografie</td>\n",
       "      <td>7-1-1924</td>\n",
       "      <td>8-6-1928</td>\n",
       "      <td>1924</td>\n",
       "      <td>101-123456</td>\n",
       "      <td>75</td>\n",
       "      <td>101-123456</td>\n",
       "      <td>57,,,</td>\n",
       "      <td>85</td>\n",
       "    </tr>\n",
       "    <tr>\n",
       "      <th>2170</th>\n",
       "      <td>1929-05-09</td>\n",
       "      <td>1-1-1925</td>\n",
       "      <td>2007-05-27</td>\n",
       "      <td>68</td>\n",
       "      <td>2015/11</td>\n",
       "      <td>Q1/2020</td>\n",
       "      <td>2018</td>\n",
       "      <td>Dr. Robbert Willems</td>\n",
       "      <td>Dr. Sophie Jansen</td>\n",
       "      <td>non-invasive</td>\n",
       "      <td>...</td>\n",
       "      <td>Onbekend</td>\n",
       "      <td>Tomografie</td>\n",
       "      <td>11-4-1922</td>\n",
       "      <td>15-3-1927</td>\n",
       "      <td>1924</td>\n",
       "      <td>101-123456</td>\n",
       "      <td>62</td>\n",
       "      <td>101-123456</td>\n",
       "      <td>19,,</td>\n",
       "      <td>78</td>\n",
       "    </tr>\n",
       "    <tr>\n",
       "      <th>2182</th>\n",
       "      <td>1921-04-19</td>\n",
       "      <td>1-1-1925</td>\n",
       "      <td>2006-09-18</td>\n",
       "      <td>90</td>\n",
       "      <td>2015/02</td>\n",
       "      <td>Q1/2011</td>\n",
       "      <td>2007</td>\n",
       "      <td>Dr. Pieter de Vries</td>\n",
       "      <td>Dr. Pieter de Vries</td>\n",
       "      <td>multifocal</td>\n",
       "      <td>...</td>\n",
       "      <td>Onbekend</td>\n",
       "      <td>Tomografie</td>\n",
       "      <td>9-7-1920</td>\n",
       "      <td>8-8-1925</td>\n",
       "      <td>1917</td>\n",
       "      <td>101-123456</td>\n",
       "      <td>62</td>\n",
       "      <td>101-123456</td>\n",
       "      <td>26,,,</td>\n",
       "      <td>85</td>\n",
       "    </tr>\n",
       "  </tbody>\n",
       "</table>\n",
       "<p>5 rows × 218 columns</p>\n",
       "</div>"
      ],
      "text/plain": [
       "       BIRTHDAT BIRTHDATANON     REGDAT  AGEREG   REGMON   REGQRT  REGYR  \\\n",
       "2124 1930-09-13     1-1-1925 2005-11-08      74  2015/02  Q2/2015   2020   \n",
       "2140 1930-05-15     1-1-1925 2014-07-16      78  2021/06  Q2/2020   2020   \n",
       "2168 1929-10-20     1-1-1925 2015-04-12      75  2014/06  Q4/2013   2017   \n",
       "2170 1929-05-09     1-1-1925 2007-05-27      68  2015/11  Q1/2020   2018   \n",
       "2182 1921-04-19     1-1-1925 2006-09-18      90  2015/02  Q1/2011   2007   \n",
       "\n",
       "              F01PHYSCOPY              F01PHYS      F01INC01  ...   radioth  \\\n",
       "2124  Dr. Pieter de Vries      Dr. Anna Bakker    multifocal  ...  Onbekend   \n",
       "2140      Dr. Anna Bakker    Dr. Sophie Jansen    multifocal  ...  Onbekend   \n",
       "2168      Dr. Anna Bakker  Dr. Robbert Willems  non-invasive  ...  Onbekend   \n",
       "2170  Dr. Robbert Willems    Dr. Sophie Jansen  non-invasive  ...  Onbekend   \n",
       "2182  Dr. Pieter de Vries  Dr. Pieter de Vries    multifocal  ...  Onbekend   \n",
       "\n",
       "          rtontv  startdatrt  stopdatrt  gebjaar     panrpre  palabpre  \\\n",
       "2124  Tomografie    1-4-1929   8-6-1928     1914  101-123456        31   \n",
       "2140  Tomografie   16-3-1923   8-8-1921     1920  101-123456       102   \n",
       "2168  Tomografie    7-1-1924   8-6-1928     1924  101-123456        75   \n",
       "2170  Tomografie   11-4-1922  15-3-1927     1924  101-123456        62   \n",
       "2182  Tomografie    9-7-1920   8-8-1925     1917  101-123456        62   \n",
       "\n",
       "            panr  palab,,,  TIME  \n",
       "2124  101-123456      8,,,    75  \n",
       "2140  101-123456       83,    84  \n",
       "2168  101-123456     57,,,    85  \n",
       "2170  101-123456      19,,    78  \n",
       "2182  101-123456     26,,,    85  \n",
       "\n",
       "[5 rows x 218 columns]"
      ]
     },
     "execution_count": 7,
     "metadata": {},
     "output_type": "execute_result"
    }
   ],
   "source": [
    "data.tail()\n",
    "\n",
    "\n"
   ]
  },
  {
   "cell_type": "code",
   "execution_count": 8,
   "id": "85b5a368-519b-4d95-92a2-0ef04a210b62",
   "metadata": {
    "ExecuteTime": {
     "end_time": "2025-05-26T23:36:27.473426Z",
     "start_time": "2025-05-26T23:36:27.376250Z"
    }
   },
   "outputs": [
    {
     "data": {
      "image/png": "[encoded data removed]",
      "text/plain": [
       "<Figure size 640x480 with 1 Axes>"
      ]
     },
     "metadata": {},
     "output_type": "display_data"
    }
   ],
   "source": [
    "time = \"TIME\"\n",
    "event = \"F20CRF\"\n",
    "method = \"chemo\"\n",
    "method1 = \"later\"\n",
    "method2 = \"hormonth\"\n",
    "method3 = \"neoadjther\"\n",
    "T = data[time]\n",
    "E = data[event]\n",
    "plt.hist(T, bins = 50)\n",
    "plt.show()"
   ]
  },
  {
   "cell_type": "code",
   "execution_count": 9,
   "id": "c0df0bf2-74ac-4460-af7a-9378322d456a",
   "metadata": {
    "ExecuteTime": {
     "end_time": "2025-05-26T23:36:27.678122Z",
     "start_time": "2025-05-26T23:36:27.594651Z"
    }
   },
   "outputs": [
    {
     "data": {
      "text/plain": [
       "<Axes: xlabel='timeline'>"
      ]
     },
     "execution_count": 9,
     "metadata": {},
     "output_type": "execute_result"
    },
    {
     "data": {
      "image/png": "[encoded data removed]",
      "text/plain": [
       "<Figure size 640x480 with 1 Axes>"
      ]
     },
     "metadata": {},
     "output_type": "display_data"
    }
   ],
   "source": [
    "kmf = KaplanMeierFitter()\n",
    "kmf.fit(durations = T, event_observed = E)\n",
    "kmf.plot_survival_function()\n"
   ]
  },
  {
   "cell_type": "code",
   "execution_count": 10,
   "id": "9c4d628a-f89c-479f-807a-7da37677d8a5",
   "metadata": {
    "ExecuteTime": {
     "end_time": "2025-05-26T23:36:28.006420Z",
     "start_time": "2025-05-26T23:36:27.954494Z"
    }
   },
   "outputs": [
    {
     "data": {
      "text/html": [
       "<div>\n",
       "<style scoped>\n",
       "    .dataframe tbody tr th:only-of-type {\n",
       "        vertical-align: middle;\n",
       "    }\n",
       "\n",
       "    .dataframe tbody tr th {\n",
       "        vertical-align: top;\n",
       "    }\n",
       "\n",
       "    .dataframe thead th {\n",
       "        text-align: right;\n",
       "    }\n",
       "</style>\n",
       "<table border=\"1\" class=\"dataframe\">\n",
       "  <tbody>\n",
       "    <tr>\n",
       "      <th>model</th>\n",
       "      <td>lifelines.CoxPHFitter</td>\n",
       "    </tr>\n",
       "    <tr>\n",
       "      <th>duration col</th>\n",
       "      <td>'TIME'</td>\n",
       "    </tr>\n",
       "    <tr>\n",
       "      <th>event col</th>\n",
       "      <td>'F20CRF'</td>\n",
       "    </tr>\n",
       "    <tr>\n",
       "      <th>baseline estimation</th>\n",
       "      <td>breslow</td>\n",
       "    </tr>\n",
       "    <tr>\n",
       "      <th>number of observations</th>\n",
       "      <td>99</td>\n",
       "    </tr>\n",
       "    <tr>\n",
       "      <th>number of events observed</th>\n",
       "      <td>44</td>\n",
       "    </tr>\n",
       "    <tr>\n",
       "      <th>partial log-likelihood</th>\n",
       "      <td>-154.32</td>\n",
       "    </tr>\n",
       "    <tr>\n",
       "      <th>time fit was run</th>\n",
       "      <td>2025-05-27 11:30:01 UTC</td>\n",
       "    </tr>\n",
       "  </tbody>\n",
       "</table>\n",
       "</div><table border=\"1\" class=\"dataframe\">\n",
       "  <thead>\n",
       "    <tr style=\"text-align: right;\">\n",
       "      <th style=\"min-width: 12px;\"></th>\n",
       "      <th style=\"min-width: 12px;\">coef</th>\n",
       "      <th style=\"min-width: 12px;\">exp(coef)</th>\n",
       "      <th style=\"min-width: 12px;\">se(coef)</th>\n",
       "      <th style=\"min-width: 12px;\">coef lower 95%</th>\n",
       "      <th style=\"min-width: 12px;\">coef upper 95%</th>\n",
       "      <th style=\"min-width: 12px;\">exp(coef) lower 95%</th>\n",
       "      <th style=\"min-width: 12px;\">exp(coef) upper 95%</th>\n",
       "      <th style=\"min-width: 12px;\">cmp to</th>\n",
       "      <th style=\"min-width: 12px;\">z</th>\n",
       "      <th style=\"min-width: 12px;\">p</th>\n",
       "      <th style=\"min-width: 12px;\">-log2(p)</th>\n",
       "    </tr>\n",
       "  </thead>\n",
       "  <tbody>\n",
       "    <tr>\n",
       "      <th>chemo</th>\n",
       "      <td>-0.59</td>\n",
       "      <td>0.56</td>\n",
       "      <td>0.29</td>\n",
       "      <td>-1.16</td>\n",
       "      <td>-0.02</td>\n",
       "      <td>0.31</td>\n",
       "      <td>0.98</td>\n",
       "      <td>0.00</td>\n",
       "      <td>-2.03</td>\n",
       "      <td>0.04</td>\n",
       "      <td>4.55</td>\n",
       "    </tr>\n",
       "    <tr>\n",
       "      <th>later</th>\n",
       "      <td>0.30</td>\n",
       "      <td>1.34</td>\n",
       "      <td>0.33</td>\n",
       "      <td>-0.34</td>\n",
       "      <td>0.94</td>\n",
       "      <td>0.71</td>\n",
       "      <td>2.55</td>\n",
       "      <td>0.00</td>\n",
       "      <td>0.91</td>\n",
       "      <td>0.36</td>\n",
       "      <td>1.46</td>\n",
       "    </tr>\n",
       "    <tr>\n",
       "      <th>hormonth</th>\n",
       "      <td>0.08</td>\n",
       "      <td>1.09</td>\n",
       "      <td>0.27</td>\n",
       "      <td>-0.45</td>\n",
       "      <td>0.62</td>\n",
       "      <td>0.64</td>\n",
       "      <td>1.86</td>\n",
       "      <td>0.00</td>\n",
       "      <td>0.31</td>\n",
       "      <td>0.76</td>\n",
       "      <td>0.40</td>\n",
       "    </tr>\n",
       "    <tr>\n",
       "      <th>neoadjther</th>\n",
       "      <td>0.18</td>\n",
       "      <td>1.19</td>\n",
       "      <td>0.31</td>\n",
       "      <td>-0.42</td>\n",
       "      <td>0.78</td>\n",
       "      <td>0.65</td>\n",
       "      <td>2.18</td>\n",
       "      <td>0.00</td>\n",
       "      <td>0.58</td>\n",
       "      <td>0.56</td>\n",
       "      <td>0.83</td>\n",
       "    </tr>\n",
       "  </tbody>\n",
       "</table><br><div>\n",
       "<style scoped>\n",
       "    .dataframe tbody tr th:only-of-type {\n",
       "        vertical-align: middle;\n",
       "    }\n",
       "\n",
       "    .dataframe tbody tr th {\n",
       "        vertical-align: top;\n",
       "    }\n",
       "\n",
       "    .dataframe thead th {\n",
       "        text-align: right;\n",
       "    }\n",
       "</style>\n",
       "<table border=\"1\" class=\"dataframe\">\n",
       "  <tbody>\n",
       "    <tr>\n",
       "      <th>Concordance</th>\n",
       "      <td>0.58</td>\n",
       "    </tr>\n",
       "    <tr>\n",
       "      <th>Partial AIC</th>\n",
       "      <td>316.64</td>\n",
       "    </tr>\n",
       "    <tr>\n",
       "      <th>log-likelihood ratio test</th>\n",
       "      <td>4.83 on 4 df</td>\n",
       "    </tr>\n",
       "    <tr>\n",
       "      <th>-log2(p) of ll-ratio test</th>\n",
       "      <td>1.71</td>\n",
       "    </tr>\n",
       "  </tbody>\n",
       "</table>\n",
       "</div>"
      ],
      "text/latex": [
       "\\begin{tabular}{lrrrrrrrrrrr}\n",
       " & coef & exp(coef) & se(coef) & coef lower 95% & coef upper 95% & exp(coef) lower 95% & exp(coef) upper 95% & cmp to & z & p & -log2(p) \\\\\n",
       "covariate &  &  &  &  &  &  &  &  &  &  &  \\\\\n",
       "chemo & -0.59 & 0.56 & 0.29 & -1.16 & -0.02 & 0.31 & 0.98 & 0.00 & -2.03 & 0.04 & 4.55 \\\\\n",
       "later & 0.30 & 1.34 & 0.33 & -0.34 & 0.94 & 0.71 & 2.55 & 0.00 & 0.91 & 0.36 & 1.46 \\\\\n",
       "hormonth & 0.08 & 1.09 & 0.27 & -0.45 & 0.62 & 0.64 & 1.86 & 0.00 & 0.31 & 0.76 & 0.40 \\\\\n",
       "neoadjther & 0.18 & 1.19 & 0.31 & -0.42 & 0.78 & 0.65 & 2.18 & 0.00 & 0.58 & 0.56 & 0.83 \\\\\n",
       "\\end{tabular}\n"
      ],
      "text/plain": [
       "<lifelines.CoxPHFitter: fitted with 99 total observations, 55 right-censored observations>\n",
       "             duration col = 'TIME'\n",
       "                event col = 'F20CRF'\n",
       "      baseline estimation = breslow\n",
       "   number of observations = 99\n",
       "number of events observed = 44\n",
       "   partial log-likelihood = -154.32\n",
       "         time fit was run = 2025-05-27 11:30:01 UTC\n",
       "\n",
       "---\n",
       "             coef  exp(coef)   se(coef)   coef lower 95%   coef upper 95%  exp(coef) lower 95%  exp(coef) upper 95%\n",
       "covariate                                                                                                          \n",
       "chemo       -0.59       0.56       0.29            -1.16            -0.02                 0.31                 0.98\n",
       "later        0.30       1.34       0.33            -0.34             0.94                 0.71                 2.55\n",
       "hormonth     0.08       1.09       0.27            -0.45             0.62                 0.64                 1.86\n",
       "neoadjther   0.18       1.19       0.31            -0.42             0.78                 0.65                 2.18\n",
       "\n",
       "             cmp to     z    p   -log2(p)\n",
       "covariate                                \n",
       "chemo          0.00 -2.03 0.04       4.55\n",
       "later          0.00  0.91 0.36       1.46\n",
       "hormonth       0.00  0.31 0.76       0.40\n",
       "neoadjther     0.00  0.58 0.56       0.83\n",
       "---\n",
       "Concordance = 0.58\n",
       "Partial AIC = 316.64\n",
       "log-likelihood ratio test = 4.83 on 4 df\n",
       "-log2(p) of ll-ratio test = 1.71"
      ]
     },
     "metadata": {},
     "output_type": "display_data"
    }
   ],
   "source": [
    "cph = CoxPHFitter()\n",
    "columns = [time, event, method, method1, method2, method3]\n",
    "cph.fit(data[columns], duration_col = time, event_col = event)\n",
    "cph.print_summary()"
   ]
  },
  {
   "cell_type": "code",
   "execution_count": 11,
   "id": "50083ada-f341-4066-b1f8-303013215d46",
   "metadata": {
    "ExecuteTime": {
     "end_time": "2025-05-26T23:36:28.128476Z",
     "start_time": "2025-05-26T23:36:28.065273Z"
    }
   },
   "outputs": [
    {
     "data": {
      "text/plain": [
       "<Axes: xlabel='log(HR) (95% CI)'>"
      ]
     },
     "execution_count": 11,
     "metadata": {},
     "output_type": "execute_result"
    },
    {
     "data": {
      "image/png": "[encoded data removed]",
      "text/plain": [
       "<Figure size 640x480 with 1 Axes>"
      ]
     },
     "metadata": {},
     "output_type": "display_data"
    }
   ],
   "source": [
    "cph.plot()"
   ]
  },
  {
   "cell_type": "code",
   "execution_count": 12,
   "id": "bf5b4a11-604e-4482-8c65-0f8b98c0e139",
   "metadata": {
    "ExecuteTime": {
     "end_time": "2025-05-26T23:36:28.280329Z",
     "start_time": "2025-05-26T23:36:28.158342Z"
    }
   },
   "outputs": [
    {
     "data": {
      "image/png": "[encoded data removed]",
      "text/plain": [
       "<Figure size 640x480 with 1 Axes>"
      ]
     },
     "metadata": {},
     "output_type": "display_data"
    }
   ],
   "source": [
    "group_1 = pd.DataFrame({ method : [0], method1 : [0], method2: [0], method3: [0]})\n",
    "group_2 = pd.DataFrame({ method : [1], method1 : [0], method2: [0], method3: [0]})\n",
    "group_3 = pd.DataFrame({ method : [0], method1 : [1], method2: [0], method3: [0]})\n",
    "group_4 = pd.DataFrame({ method : [0], method1 : [0], method2: [1], method3: [0]})\n",
    "group_5 = pd.DataFrame({ method : [0], method1 : [0], method2: [0], method3: [1]})\n",
    "\n",
    "ax = cph.predict_survival_function(group_1).plot(label=\"Chemo=0, Later=0, hormonth=0, neoadjther=0\", linestyle='-', color=\"green\")\n",
    "cph.predict_survival_function(group_2).plot(ax=ax, label=\"Chemo=1, Later=0, hormonth=0, neoadjther=0\", linestyle='-', color=\"yellow\")\n",
    "cph.predict_survival_function(group_3).plot(ax=ax, label=\"Chemo=0, Later=1, hormonth=0, neoadjther=0\", linestyle='-', color=\"red\")\n",
    "cph.predict_survival_function(group_4).plot(ax=ax, label=\"Chemo=0, Later=0, hormonth=1, neoadjther=0\", linestyle='-', color=\"blue\")\n",
    "cph.predict_survival_function(group_5).plot(ax=ax, label=\"Chemo=0, Later=0, hormonth=0, neoadjther=1\", linestyle='-', color=\"black\")\n",
    "\n",
    "\n",
    "# Finalize plot\n",
    "plt.title(\"Survival Curves for Different Treatment Groups\")\n",
    "plt.xlabel(\"Time\")\n",
    "\n",
    "plt.ylabel(\"Survival Probability\")\n",
    "plt.grid(True)\n",
    "plt.legend()\n",
    "plt.show()"
   ]
  }
 ],
 "metadata": {
  "kernelspec": {
   "display_name": "Python 3 (ipykernel)",
   "language": "python",
   "name": "python3"
  },
  "language_info": {
   "codemirror_mode": {
    "name": "ipython",
    "version": 3
   },
   "file_extension": ".py",
   "mimetype": "text/x-python",
   "name": "python",
   "nbconvert_exporter": "python",
   "pygments_lexer": "ipython3",
   "version": "3.11.7"
  }
 },
 "nbformat": 4,
 "nbformat_minor": 5
}
