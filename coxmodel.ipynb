{
 "cells": [
  {
   "cell_type": "code",
   "execution_count": 1,
   "id": "4c7f5afa-5712-4aa8-8e1d-fa9a36d77060",
   "metadata": {
    "ExecuteTime": {
     "end_time": "2025-05-26T23:36:26.627132Z",
     "start_time": "2025-05-26T23:36:26.624329Z"
    }
   },
   "outputs": [],
   "source": [
    "import pandas as pd\n",
    "from lifelines import KaplanMeierFitter, CoxPHFitter\n",
    "import matplotlib.pyplot as plt\n",
    "import itertools as it"
   ]
  },
  {
   "cell_type": "code",
   "execution_count": null,
   "id": "9dc47fab547565a8",
   "metadata": {
    "ExecuteTime": {
     "end_time": "2025-05-26T23:36:26.656606Z",
     "start_time": "2025-05-26T23:36:26.654060Z"
    }
   },
   "outputs": [],
   "source": [
    "# 'non-invasive', 'multifocal', 'tumour<1cm, grade 1', 'tumour>2cm, grade 2'\n",
    "var = input()"
   ]
  },
  {
   "cell_type": "code",
   "execution_count": null,
   "id": "8030e750-df5e-400d-af9a-c1e75d3638ce",
   "metadata": {
    "ExecuteTime": {
     "end_time": "2025-05-26T23:36:26.700858Z",
     "start_time": "2025-05-26T23:36:26.685605Z"
    }
   },
   "outputs": [],
   "source": [
    "data = pd.read_csv(\"./data/testset_set_echte_data1_uitgebreid.csv\", sep=';', on_bad_lines='skip')\n",
    "data = data[data['F20DEATHCAU'] == \"Kanker\"]\n",
    "data = data[data['F01INC07'] == 1]\n",
    "data = data[data['RF01INC01'] == var]"
   ]
  },
  {
   "cell_type": "code",
   "execution_count": null,
   "id": "ac00d00f-f7a7-4a12-9fae-6b9dd683ccbc",
   "metadata": {
    "ExecuteTime": {
     "end_time": "2025-05-26T23:36:26.734336Z",
     "start_time": "2025-05-26T23:36:26.723207Z"
    }
   },
   "outputs": [],
   "source": [
    "data.head()"
   ]
  },
  {
   "cell_type": "code",
   "execution_count": null,
   "id": "0cad8193-b81d-4470-b60d-4a938c4343ee",
   "metadata": {
    "ExecuteTime": {
     "end_time": "2025-05-26T23:36:26.806061Z",
     "start_time": "2025-05-26T23:36:26.801410Z"
    }
   },
   "outputs": [],
   "source": [
    "data['REGDAT'] = pd.to_datetime(data['REGDAT'], dayfirst=True, errors='coerce')\n",
    "data['BIRTHDAT'] = pd.to_datetime(data['BIRTHDAT'], dayfirst=True, errors='coerce')\n",
    "\n",
    "\n",
    "data['TIME'] = (data['REGDAT'] - data['BIRTHDAT']).dt.days // 365"
   ]
  },
  {
   "cell_type": "code",
   "execution_count": null,
   "id": "75a951c7-3107-4545-b397-7db845ba3d3c",
   "metadata": {
    "ExecuteTime": {
     "end_time": "2025-05-26T23:36:26.886664Z",
     "start_time": "2025-05-26T23:36:26.881896Z"
    }
   },
   "outputs": [],
   "source": [
    "data.dtypes"
   ]
  },
  {
   "cell_type": "code",
   "execution_count": null,
   "id": "082e1aa8-1b61-40b6-b27b-05c225af5d0a",
   "metadata": {
    "ExecuteTime": {
     "end_time": "2025-05-26T23:36:27.254804Z",
     "start_time": "2025-05-26T23:36:27.244135Z"
    }
   },
   "outputs": [],
   "source": [
    "data.tail()\n",
    "\n",
    "\n"
   ]
  },
  {
   "cell_type": "code",
   "execution_count": null,
   "id": "85b5a368-519b-4d95-92a2-0ef04a210b62",
   "metadata": {
    "ExecuteTime": {
     "end_time": "2025-05-26T23:36:27.473426Z",
     "start_time": "2025-05-26T23:36:27.376250Z"
    }
   },
   "outputs": [],
   "source": [
    "time = \"TIME\"\n",
    "event = \"F20CRF\"\n",
    "method = \"chemo\"\n",
    "method1 = \"later\"\n",
    "method2 = \"hormonth\"\n",
    "method3 = \"neoadjther\"\n",
    "T = data[time]\n",
    "E = data[event]\n",
    "plt.hist(T, bins = 50)\n",
    "plt.show()"
   ]
  },
  {
   "cell_type": "code",
   "execution_count": null,
   "id": "c0df0bf2-74ac-4460-af7a-9378322d456a",
   "metadata": {
    "ExecuteTime": {
     "end_time": "2025-05-26T23:36:27.678122Z",
     "start_time": "2025-05-26T23:36:27.594651Z"
    }
   },
   "outputs": [],
   "source": [
    "kmf = KaplanMeierFitter()\n",
    "kmf.fit(durations = T, event_observed = E)\n",
    "kmf.plot_survival_function()\n"
   ]
  },
  {
   "cell_type": "code",
   "execution_count": null,
   "id": "9c4d628a-f89c-479f-807a-7da37677d8a5",
   "metadata": {
    "ExecuteTime": {
     "end_time": "2025-05-26T23:36:28.006420Z",
     "start_time": "2025-05-26T23:36:27.954494Z"
    }
   },
   "outputs": [],
   "source": [
    "cph = CoxPHFitter()\n",
    "columns = [time, event, method, method1, method2, method3]\n",
    "cph.fit(data[columns], duration_col = time, event_col = event)\n",
    "cph.print_summary()"
   ]
  },
  {
   "cell_type": "code",
   "execution_count": null,
   "id": "50083ada-f341-4066-b1f8-303013215d46",
   "metadata": {
    "ExecuteTime": {
     "end_time": "2025-05-26T23:36:28.128476Z",
     "start_time": "2025-05-26T23:36:28.065273Z"
    }
   },
   "outputs": [],
   "source": [
    "cph.plot()"
   ]
  },
  {
   "cell_type": "code",
   "execution_count": null,
   "id": "bf5b4a11-604e-4482-8c65-0f8b98c0e139",
   "metadata": {
    "ExecuteTime": {
     "end_time": "2025-05-26T23:36:28.280329Z",
     "start_time": "2025-05-26T23:36:28.158342Z"
    }
   },
   "outputs": [],
   "source": [
    "group_1 = pd.DataFrame({ method : [0], method1 : [0], method2: [0], method3: [0]})\n",
    "group_2 = pd.DataFrame({ method : [1], method1 : [0], method2: [0], method3: [0]})\n",
    "group_3 = pd.DataFrame({ method : [0], method1 : [1], method2: [0], method3: [0]})\n",
    "group_4 = pd.DataFrame({ method : [0], method1 : [0], method2: [1], method3: [0]})\n",
    "group_5 = pd.DataFrame({ method : [0], method1 : [0], method2: [0], method3: [1]})\n",
    "\n",
    "ax = cph.predict_survival_function(group_1).plot(label=\"Chemo=0, Later=0, hormonth=0, neoadjther=0\", linestyle='-', color=\"green\")\n",
    "cph.predict_survival_function(group_2).plot(ax=ax, label=\"Chemo=1, Later=0, hormonth=0, neoadjther=0\", linestyle='-', color=\"yellow\")\n",
    "cph.predict_survival_function(group_3).plot(ax=ax, label=\"Chemo=0, Later=1, hormonth=0, neoadjther=0\", linestyle='-', color=\"red\")\n",
    "cph.predict_survival_function(group_4).plot(ax=ax, label=\"Chemo=0, Later=0, hormonth=1, neoadjther=0\", linestyle='-', color=\"blue\")\n",
    "cph.predict_survival_function(group_5).plot(ax=ax, label=\"Chemo=0, Later=0, hormonth=0, neoadjther=1\", linestyle='-', color=\"black\")\n",
    "\n",
    "\n",
    "# Finalize plot\n",
    "plt.title(\"Survival Curves for Different Treatment Groups\")\n",
    "plt.xlabel(\"Time\")\n",
    "\n",
    "plt.ylabel(\"Survival Probability\")\n",
    "plt.grid(True)\n",
    "plt.legend()\n",
    "plt.show()"
   ]
  }
 ],
 "metadata": {
  "kernelspec": {
   "display_name": "Python 3 (ipykernel)",
   "language": "python",
   "name": "python3"
  },
  "language_info": {
   "codemirror_mode": {
    "name": "ipython",
    "version": 3
   },
   "file_extension": ".py",
   "mimetype": "text/x-python",
   "name": "python",
   "nbconvert_exporter": "python",
   "pygments_lexer": "ipython3",
   "version": "3.11.7"
  }
 },
 "nbformat": 4,
 "nbformat_minor": 5
}
